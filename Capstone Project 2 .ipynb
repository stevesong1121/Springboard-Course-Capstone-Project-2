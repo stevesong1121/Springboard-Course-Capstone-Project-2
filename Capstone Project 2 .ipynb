{
 "cells": [
  {
   "cell_type": "code",
   "execution_count": 1,
   "metadata": {},
   "outputs": [
    {
     "name": "stderr",
     "output_type": "stream",
     "text": [
      "Using TensorFlow backend.\n"
     ]
    }
   ],
   "source": [
    "import numpy as np\n",
    "import pandas as pd\n",
    "import preprocessor as p   # tweets preprocessor\n",
    "import re\n",
    "import spacy\n",
    "from contractions import CONTRACTION_MAP\n",
    "from nltk.tokenize.toktok import ToktokTokenizer\n",
    "import nltk\n",
    "from  nltk.corpus import stopwords\n",
    "from sklearn.feature_extraction.text import CountVectorizer\n",
    "\n",
    "from sklearn.model_selection import train_test_split\n",
    "\n",
    "from sklearn.preprocessing import scale\n",
    "from sklearn.metrics import roc_curve, auc\n",
    "import random\n",
    "\n",
    "from sklearn.naive_bayes import MultinomialNB\n",
    "from sklearn.svm import SVC\n",
    "from sklearn.linear_model import LogisticRegression\n",
    "\n",
    "import keras\n",
    "\n",
    "from sklearn import metrics\n",
    "\n",
    "import itertools \n",
    "import collections\n",
    "from collections import defaultdict\n",
    "pd.options.display.max_colwidth = 200\n",
    "\n",
    "\n",
    "import matplotlib.pyplot as pl\n",
    "%matplotlib inline\n",
    "\n",
    "import warnings\n",
    "warnings.filterwarnings(\"ignore\")"
   ]
  },
  {
   "cell_type": "code",
   "execution_count": 2,
   "metadata": {},
   "outputs": [],
   "source": [
    "nlp = spacy.load(\"en_core_web_md\")\n",
    "tokenizer = ToktokTokenizer()\n",
    "stopword_list = nltk.corpus.stopwords.words('english')\n",
    "stopword_list.remove('no')\n",
    "stopword_list.remove('not')"
   ]
  },
  {
   "cell_type": "code",
   "execution_count": 3,
   "metadata": {},
   "outputs": [],
   "source": [
    "##Import dataset \n",
    "df = pd.read_csv(\"/Data Science/DSC/Natural Language Processing.bin/dataset/Tweets.csv\")"
   ]
  },
  {
   "cell_type": "code",
   "execution_count": 4,
   "metadata": {},
   "outputs": [
    {
     "data": {
      "text/html": [
       "<div>\n",
       "<style scoped>\n",
       "    .dataframe tbody tr th:only-of-type {\n",
       "        vertical-align: middle;\n",
       "    }\n",
       "\n",
       "    .dataframe tbody tr th {\n",
       "        vertical-align: top;\n",
       "    }\n",
       "\n",
       "    .dataframe thead th {\n",
       "        text-align: right;\n",
       "    }\n",
       "</style>\n",
       "<table border=\"1\" class=\"dataframe\">\n",
       "  <thead>\n",
       "    <tr style=\"text-align: right;\">\n",
       "      <th></th>\n",
       "      <th>tweet_id</th>\n",
       "      <th>airline_sentiment</th>\n",
       "      <th>airline_sentiment_confidence</th>\n",
       "      <th>negativereason</th>\n",
       "      <th>negativereason_confidence</th>\n",
       "      <th>airline</th>\n",
       "      <th>airline_sentiment_gold</th>\n",
       "      <th>name</th>\n",
       "      <th>negativereason_gold</th>\n",
       "      <th>retweet_count</th>\n",
       "      <th>text</th>\n",
       "      <th>tweet_coord</th>\n",
       "      <th>tweet_created</th>\n",
       "      <th>tweet_location</th>\n",
       "      <th>user_timezone</th>\n",
       "    </tr>\n",
       "  </thead>\n",
       "  <tbody>\n",
       "    <tr>\n",
       "      <th>0</th>\n",
       "      <td>570306133677760513</td>\n",
       "      <td>neutral</td>\n",
       "      <td>1.0000</td>\n",
       "      <td>NaN</td>\n",
       "      <td>NaN</td>\n",
       "      <td>Virgin America</td>\n",
       "      <td>NaN</td>\n",
       "      <td>cairdin</td>\n",
       "      <td>NaN</td>\n",
       "      <td>0</td>\n",
       "      <td>@VirginAmerica What @dhepburn said.</td>\n",
       "      <td>NaN</td>\n",
       "      <td>2015-02-24 11:35:52 -0800</td>\n",
       "      <td>NaN</td>\n",
       "      <td>Eastern Time (US &amp; Canada)</td>\n",
       "    </tr>\n",
       "    <tr>\n",
       "      <th>1</th>\n",
       "      <td>570301130888122368</td>\n",
       "      <td>positive</td>\n",
       "      <td>0.3486</td>\n",
       "      <td>NaN</td>\n",
       "      <td>0.0</td>\n",
       "      <td>Virgin America</td>\n",
       "      <td>NaN</td>\n",
       "      <td>jnardino</td>\n",
       "      <td>NaN</td>\n",
       "      <td>0</td>\n",
       "      <td>@VirginAmerica plus you've added commercials to the experience... tacky.</td>\n",
       "      <td>NaN</td>\n",
       "      <td>2015-02-24 11:15:59 -0800</td>\n",
       "      <td>NaN</td>\n",
       "      <td>Pacific Time (US &amp; Canada)</td>\n",
       "    </tr>\n",
       "  </tbody>\n",
       "</table>\n",
       "</div>"
      ],
      "text/plain": [
       "             tweet_id airline_sentiment  airline_sentiment_confidence  \\\n",
       "0  570306133677760513           neutral                        1.0000   \n",
       "1  570301130888122368          positive                        0.3486   \n",
       "\n",
       "  negativereason  negativereason_confidence         airline  \\\n",
       "0            NaN                        NaN  Virgin America   \n",
       "1            NaN                        0.0  Virgin America   \n",
       "\n",
       "  airline_sentiment_gold      name negativereason_gold  retweet_count  \\\n",
       "0                    NaN   cairdin                 NaN              0   \n",
       "1                    NaN  jnardino                 NaN              0   \n",
       "\n",
       "                                                                       text  \\\n",
       "0                                       @VirginAmerica What @dhepburn said.   \n",
       "1  @VirginAmerica plus you've added commercials to the experience... tacky.   \n",
       "\n",
       "  tweet_coord              tweet_created tweet_location  \\\n",
       "0         NaN  2015-02-24 11:35:52 -0800            NaN   \n",
       "1         NaN  2015-02-24 11:15:59 -0800            NaN   \n",
       "\n",
       "                user_timezone  \n",
       "0  Eastern Time (US & Canada)  \n",
       "1  Pacific Time (US & Canada)  "
      ]
     },
     "execution_count": 4,
     "metadata": {},
     "output_type": "execute_result"
    }
   ],
   "source": [
    "df.head(2)"
   ]
  },
  {
   "cell_type": "markdown",
   "metadata": {},
   "source": [
    "# Exploratory Data Analysis "
   ]
  },
  {
   "cell_type": "code",
   "execution_count": 5,
   "metadata": {},
   "outputs": [
    {
     "data": {
      "text/plain": [
       "negative    9178\n",
       "neutral     3099\n",
       "positive    2363\n",
       "Name: airline_sentiment, dtype: int64"
      ]
     },
     "execution_count": 5,
     "metadata": {},
     "output_type": "execute_result"
    }
   ],
   "source": [
    "## check the distribution of sentiment types\n",
    "df['airline_sentiment'].value_counts()"
   ]
  },
  {
   "cell_type": "code",
   "execution_count": 6,
   "metadata": {},
   "outputs": [
    {
     "data": {
      "text/plain": [
       "(2363, 15)"
      ]
     },
     "execution_count": 6,
     "metadata": {},
     "output_type": "execute_result"
    }
   ],
   "source": [
    "## generate 'positive' dataset\n",
    "df_positive = df[df['airline_sentiment'] == 'positive']\n",
    "df_positive.shape"
   ]
  },
  {
   "cell_type": "code",
   "execution_count": 7,
   "metadata": {},
   "outputs": [
    {
     "data": {
      "text/plain": [
       "(3099, 15)"
      ]
     },
     "execution_count": 7,
     "metadata": {},
     "output_type": "execute_result"
    }
   ],
   "source": [
    "## generate 'neutral' dataset\n",
    "df_neutral = df[df['airline_sentiment'] == 'neutral']\n",
    "df_neutral.shape"
   ]
  },
  {
   "cell_type": "code",
   "execution_count": 8,
   "metadata": {},
   "outputs": [
    {
     "data": {
      "text/plain": [
       "(9178, 15)"
      ]
     },
     "execution_count": 8,
     "metadata": {},
     "output_type": "execute_result"
    }
   ],
   "source": [
    "## generate 'negative' dataset\n",
    "df_negative = df[df['airline_sentiment'] == 'negative']\n",
    "df_negative.shape"
   ]
  },
  {
   "cell_type": "code",
   "execution_count": 9,
   "metadata": {},
   "outputs": [
    {
     "data": {
      "text/plain": [
       "negativereason\n",
       "Customer Service Issue         2910\n",
       "Late Flight                    1665\n",
       "Can't Tell                     1190\n",
       "Cancelled Flight                847\n",
       "Lost Luggage                    724\n",
       "Bad Flight                      580\n",
       "Flight Booking Problems         529\n",
       "Flight Attendant Complaints     481\n",
       "longlines                       178\n",
       "Damaged Luggage                  74\n",
       "Name: negativereason, dtype: int64"
      ]
     },
     "execution_count": 9,
     "metadata": {},
     "output_type": "execute_result"
    }
   ],
   "source": [
    "## check \" negative reason\" for 'negative' dataset\n",
    "df_negative.groupby('negativereason')['negativereason'].count().sort_values(ascending=False)"
   ]
  },
  {
   "cell_type": "code",
   "execution_count": 10,
   "metadata": {},
   "outputs": [
    {
     "data": {
      "text/plain": [
       "airline\n",
       "Southwest         570\n",
       "Delta             544\n",
       "United            492\n",
       "American          336\n",
       "US Airways        269\n",
       "Virgin America    152\n",
       "Name: airline, dtype: int64"
      ]
     },
     "execution_count": 10,
     "metadata": {},
     "output_type": "execute_result"
    }
   ],
   "source": [
    "## check positive review distribution by airlines\n",
    "df_positive.groupby('airline')['airline'].count().sort_values(ascending=False)"
   ]
  },
  {
   "cell_type": "code",
   "execution_count": 11,
   "metadata": {},
   "outputs": [
    {
     "data": {
      "text/plain": [
       "airline\n",
       "United            2633\n",
       "US Airways        2263\n",
       "American          1960\n",
       "Southwest         1186\n",
       "Delta              955\n",
       "Virgin America     181\n",
       "Name: airline, dtype: int64"
      ]
     },
     "execution_count": 11,
     "metadata": {},
     "output_type": "execute_result"
    }
   ],
   "source": [
    "##  check negative review distribution by airlines\n",
    "df_negative.groupby('airline')['airline'].count().sort_values(ascending=False)"
   ]
  },
  {
   "cell_type": "code",
   "execution_count": 12,
   "metadata": {},
   "outputs": [
    {
     "data": {
      "text/plain": [
       "airline\n",
       "Delta             723\n",
       "United            697\n",
       "Southwest         664\n",
       "American          463\n",
       "US Airways        381\n",
       "Virgin America    171\n",
       "Name: airline, dtype: int64"
      ]
     },
     "execution_count": 12,
     "metadata": {},
     "output_type": "execute_result"
    }
   ],
   "source": [
    "##  check neutral review distribution by airlines\n",
    "df_neutral.groupby('airline')['airline'].count().sort_values(ascending=False)"
   ]
  },
  {
   "cell_type": "code",
   "execution_count": 13,
   "metadata": {},
   "outputs": [
    {
     "data": {
      "text/plain": [
       "tweet_id                            0\n",
       "airline_sentiment                   0\n",
       "airline_sentiment_confidence        0\n",
       "negativereason                   5462\n",
       "negativereason_confidence        4118\n",
       "airline                             0\n",
       "airline_sentiment_gold          14600\n",
       "name                                0\n",
       "negativereason_gold             14608\n",
       "retweet_count                       0\n",
       "text                                0\n",
       "tweet_coord                     13621\n",
       "tweet_created                       0\n",
       "tweet_location                   4733\n",
       "user_timezone                    4820\n",
       "dtype: int64"
      ]
     },
     "execution_count": 13,
     "metadata": {},
     "output_type": "execute_result"
    }
   ],
   "source": [
    "## check missing values \n",
    "df.isnull().sum()"
   ]
  },
  {
   "cell_type": "code",
   "execution_count": 14,
   "metadata": {},
   "outputs": [
    {
     "name": "stdout",
     "output_type": "stream",
     "text": [
      "20127\n"
     ]
    },
    {
     "data": {
      "text/plain": [
       "['@',\n",
       " '.',\n",
       " 'to',\n",
       " 'I',\n",
       " 'the',\n",
       " '!',\n",
       " '?',\n",
       " 'a',\n",
       " ',',\n",
       " 'for',\n",
       " 'you',\n",
       " 'united',\n",
       " 'on',\n",
       " '#',\n",
       " 'and',\n",
       " 'flight',\n",
       " 'my',\n",
       " 'USAirways',\n",
       " 'AmericanAir',\n",
       " 'is',\n",
       " 'in',\n",
       " 'SouthwestAir',\n",
       " 'JetBlue',\n",
       " 'of',\n",
       " 'it',\n",
       " \"n't\",\n",
       " ':',\n",
       " 'me',\n",
       " 'have',\n",
       " 'was',\n",
       " 'that',\n",
       " 'your',\n",
       " 'with',\n",
       " \"'s\",\n",
       " 'at',\n",
       " 'not',\n",
       " 'get',\n",
       " 'do',\n",
       " 'be',\n",
       " 'from',\n",
       " 'this',\n",
       " 'http',\n",
       " 'no',\n",
       " 'but',\n",
       " 'are',\n",
       " 'Cancelled',\n",
       " '...',\n",
       " 'we',\n",
       " 'an',\n",
       " ';']"
      ]
     },
     "execution_count": 14,
     "metadata": {},
     "output_type": "execute_result"
    }
   ],
   "source": [
    "##  calculate  and view the frequency of each word\n",
    "import nltk\n",
    "from nltk.tokenize import word_tokenize\n",
    "\n",
    "reviews = df.text.str.cat(sep=' ')\n",
    "tokens = word_tokenize(reviews)\n",
    "vocabulary = set(tokens)\n",
    "print(len(vocabulary))\n",
    "\n",
    "frequency_dist = nltk.FreqDist(tokens)\n",
    "sorted(frequency_dist,key=frequency_dist.__getitem__, reverse=True)[0:50]"
   ]
  },
  {
   "cell_type": "code",
   "execution_count": 17,
   "metadata": {},
   "outputs": [
    {
     "data": {
      "image/png": "[encoded data removed]",
      "text/plain": [
       "<Figure size 432x288 with 1 Axes>"
      ]
     },
     "metadata": {
      "needs_background": "light"
     },
     "output_type": "display_data"
    }
   ],
   "source": [
    "from nltk.corpus import stopwords\n",
    "stop_words = set(stopwords.words('english'))\n",
    "from wordcloud import WordCloud\n",
    "import matplotlib.pyplot as plt\n",
    "wordcloud = WordCloud().generate_from_frequencies(frequency_dist)\n",
    "plt.imshow(wordcloud)\n",
    "plt.axis(\"off\")\n",
    "plt.show()"
   ]
  },
  {
   "cell_type": "markdown",
   "metadata": {},
   "source": [
    "## Train test split"
   ]
  },
  {
   "cell_type": "code",
   "execution_count": 15,
   "metadata": {},
   "outputs": [
    {
     "data": {
      "text/plain": [
       "negative    9178\n",
       "neutral     3099\n",
       "positive    2363\n",
       "Name: airline_sentiment, dtype: int64"
      ]
     },
     "execution_count": 15,
     "metadata": {},
     "output_type": "execute_result"
    }
   ],
   "source": [
    "df['airline_sentiment'].value_counts()"
   ]
  },
  {
   "cell_type": "code",
   "execution_count": 16,
   "metadata": {},
   "outputs": [],
   "source": [
    "df['airline_sentiment'] = df['airline_sentiment'].map({'positive':1,'neutral':0,'negative':-1})"
   ]
  },
  {
   "cell_type": "code",
   "execution_count": 18,
   "metadata": {},
   "outputs": [],
   "source": [
    "X_train,X_test,y_train,y_test = train_test_split(df['text'],df['airline_sentiment'],test_size=0.33, random_state=53)"
   ]
  },
  {
   "cell_type": "markdown",
   "metadata": {},
   "source": [
    "# Text Data Preprocessing\n",
    "\n",
    "## define some functions"
   ]
  },
  {
   "cell_type": "code",
   "execution_count": 19,
   "metadata": {},
   "outputs": [],
   "source": [
    "## Expand contractions\n",
    "\n",
    "def expand_contractions(text, contraction_mapping=CONTRACTION_MAP):\n",
    "    \n",
    "    contractions_pattern = re.compile('({})'.format('|'.join(contraction_mapping.keys())), \n",
    "                                      flags=re.IGNORECASE|re.DOTALL)\n",
    "    def expand_match(contraction):\n",
    "        match = contraction.group(0)\n",
    "        first_char = match[0]\n",
    "        expanded_contraction = contraction_mapping.get(match)\\\n",
    "                                if contraction_mapping.get(match)\\\n",
    "                                else contraction_mapping.get(match.lower())                       \n",
    "        expanded_contraction = first_char+expanded_contraction[1:]\n",
    "        return expanded_contraction\n",
    "        \n",
    "    expanded_text = contractions_pattern.sub(expand_match, text)\n",
    "    expanded_text = re.sub(\"'\", \"\", expanded_text)\n",
    "    return expanded_text"
   ]
  },
  {
   "cell_type": "code",
   "execution_count": 20,
   "metadata": {},
   "outputs": [],
   "source": [
    "## Remove special characters\n",
    "\n",
    "def remove_special_characters(text):\n",
    "    text = re.sub('[^a-zA-z0-9\\s]', ' ', text)\n",
    "    return text"
   ]
  },
  {
   "cell_type": "code",
   "execution_count": 21,
   "metadata": {},
   "outputs": [],
   "source": [
    "## Lemmatization\n",
    "\n",
    "def lemmatize_text(text):\n",
    "    text = nlp(text)\n",
    "    text = ' '.join([word.lemma_ if word.lemma_ != '-PRON-' else word.text for word in text])\n",
    "    return text"
   ]
  },
  {
   "cell_type": "code",
   "execution_count": 22,
   "metadata": {},
   "outputs": [],
   "source": [
    "## remove stopwords\n",
    "\n",
    "def remove_stopwords(text):\n",
    "    tokens = tokenizer.tokenize(text)\n",
    "    tokens = [token.strip() for token in tokens]\n",
    "    filtered_tokens = [token for token in tokens if token not in stopword_list]\n",
    "    filtered_text = ' '.join(filtered_tokens)    \n",
    "    return filtered_text"
   ]
  },
  {
   "cell_type": "code",
   "execution_count": 25,
   "metadata": {},
   "outputs": [],
   "source": [
    "def clean_tweets(df_tmp):\n",
    "    tempArr = []\n",
    "    for line in df_tmp:\n",
    "    #send to tweet_processor\n",
    "        tmpL = p.clean(line)\n",
    "        tmpL = expand_contractions(tmpL.lower())\n",
    "        tmpL = remove_special_characters(tmpL)\n",
    "        tmpL = lemmatize_text(tmpL)\n",
    "        #tmpL = remove_stopwords(tmpL)\n",
    "        #remove puctuation\n",
    "        #tmpL = REPLACE_NO_SPACE.sub(\"\", tmpL) \n",
    "        #tmpL = REPLACE_WITH_SPACE.sub(\" \", tmpL)\n",
    "        tempArr.append(tmpL)\n",
    "    return tempArr"
   ]
  },
  {
   "cell_type": "code",
   "execution_count": 26,
   "metadata": {},
   "outputs": [],
   "source": [
    "# clean both train/test dataset and the entire dataset \n",
    "X_train_cleaned = clean_tweets(X_train)\n",
    "X_test_cleaned = clean_tweets(X_test)\n",
    "X_cleaned = clean_tweets(df['text'])"
   ]
  },
  {
   "cell_type": "code",
   "execution_count": 27,
   "metadata": {},
   "outputs": [
    {
     "data": {
      "text/plain": [
       "0                                                                                               @VirginAmerica What @dhepburn said.\n",
       "1                                                          @VirginAmerica plus you've added commercials to the experience... tacky.\n",
       "2                                                           @VirginAmerica I didn't today... Must mean I need to take another trip!\n",
       "3    @VirginAmerica it's really aggressive to blast obnoxious \"entertainment\" in your guests' faces &amp; they have little recourse\n",
       "4                                                                           @VirginAmerica and it's a really big bad thing about it\n",
       "Name: text, dtype: object"
      ]
     },
     "execution_count": 27,
     "metadata": {},
     "output_type": "execute_result"
    }
   ],
   "source": [
    "df['text'][0:5]"
   ]
  },
  {
   "cell_type": "code",
   "execution_count": 28,
   "metadata": {},
   "outputs": [
    {
     "data": {
      "text/plain": [
       "['what say',\n",
       " 'plus you have add commercial to the experience     tacky',\n",
       " 'i do not today     must mean i need to take another trip',\n",
       " 'it be really aggressive to blast obnoxious   entertainment   in your guest face   amp   they have little recourse',\n",
       " 'and it be a really big bad thing about it']"
      ]
     },
     "execution_count": 28,
     "metadata": {},
     "output_type": "execute_result"
    }
   ],
   "source": [
    "X_cleaned[0:5]"
   ]
  },
  {
   "cell_type": "markdown",
   "metadata": {},
   "source": [
    "## CountVectorization"
   ]
  },
  {
   "cell_type": "code",
   "execution_count": 29,
   "metadata": {},
   "outputs": [],
   "source": [
    "from sklearn.feature_extraction.text import CountVectorizer\n",
    "\n",
    "count_vectorizer = CountVectorizer(stop_words='english')\n",
    "count_train= count_vectorizer.fit_transform(X_train_cleaned)\n",
    "count_test= count_vectorizer.transform(X_test_cleaned)"
   ]
  },
  {
   "cell_type": "code",
   "execution_count": 31,
   "metadata": {},
   "outputs": [
    {
     "data": {
      "text/html": [
       "<div>\n",
       "<style scoped>\n",
       "    .dataframe tbody tr th:only-of-type {\n",
       "        vertical-align: middle;\n",
       "    }\n",
       "\n",
       "    .dataframe tbody tr th {\n",
       "        vertical-align: top;\n",
       "    }\n",
       "\n",
       "    .dataframe thead th {\n",
       "        text-align: right;\n",
       "    }\n",
       "</style>\n",
       "<table border=\"1\" class=\"dataframe\">\n",
       "  <thead>\n",
       "    <tr style=\"text-align: right;\">\n",
       "      <th></th>\n",
       "      <th>00</th>\n",
       "      <th>000</th>\n",
       "      <th>000419</th>\n",
       "      <th>00a</th>\n",
       "      <th>00am</th>\n",
       "      <th>00p</th>\n",
       "      <th>00pm</th>\n",
       "      <th>0200</th>\n",
       "      <th>03</th>\n",
       "      <th>04</th>\n",
       "      <th>...</th>\n",
       "      <th>zagg</th>\n",
       "      <th>zambia</th>\n",
       "      <th>zcc82u</th>\n",
       "      <th>zero</th>\n",
       "      <th>zig</th>\n",
       "      <th>zip</th>\n",
       "      <th>zipper</th>\n",
       "      <th>zone</th>\n",
       "      <th>zoom</th>\n",
       "      <th>zurich</th>\n",
       "    </tr>\n",
       "  </thead>\n",
       "  <tbody>\n",
       "    <tr>\n",
       "      <th>0</th>\n",
       "      <td>0</td>\n",
       "      <td>0</td>\n",
       "      <td>0</td>\n",
       "      <td>0</td>\n",
       "      <td>0</td>\n",
       "      <td>0</td>\n",
       "      <td>0</td>\n",
       "      <td>0</td>\n",
       "      <td>0</td>\n",
       "      <td>0</td>\n",
       "      <td>...</td>\n",
       "      <td>0</td>\n",
       "      <td>0</td>\n",
       "      <td>0</td>\n",
       "      <td>0</td>\n",
       "      <td>0</td>\n",
       "      <td>0</td>\n",
       "      <td>0</td>\n",
       "      <td>0</td>\n",
       "      <td>0</td>\n",
       "      <td>0</td>\n",
       "    </tr>\n",
       "    <tr>\n",
       "      <th>1</th>\n",
       "      <td>0</td>\n",
       "      <td>0</td>\n",
       "      <td>0</td>\n",
       "      <td>0</td>\n",
       "      <td>0</td>\n",
       "      <td>0</td>\n",
       "      <td>0</td>\n",
       "      <td>0</td>\n",
       "      <td>0</td>\n",
       "      <td>0</td>\n",
       "      <td>...</td>\n",
       "      <td>0</td>\n",
       "      <td>0</td>\n",
       "      <td>0</td>\n",
       "      <td>0</td>\n",
       "      <td>0</td>\n",
       "      <td>0</td>\n",
       "      <td>0</td>\n",
       "      <td>0</td>\n",
       "      <td>0</td>\n",
       "      <td>0</td>\n",
       "    </tr>\n",
       "    <tr>\n",
       "      <th>2</th>\n",
       "      <td>0</td>\n",
       "      <td>0</td>\n",
       "      <td>0</td>\n",
       "      <td>0</td>\n",
       "      <td>0</td>\n",
       "      <td>0</td>\n",
       "      <td>0</td>\n",
       "      <td>0</td>\n",
       "      <td>0</td>\n",
       "      <td>0</td>\n",
       "      <td>...</td>\n",
       "      <td>0</td>\n",
       "      <td>0</td>\n",
       "      <td>0</td>\n",
       "      <td>0</td>\n",
       "      <td>0</td>\n",
       "      <td>0</td>\n",
       "      <td>0</td>\n",
       "      <td>0</td>\n",
       "      <td>0</td>\n",
       "      <td>0</td>\n",
       "    </tr>\n",
       "    <tr>\n",
       "      <th>3</th>\n",
       "      <td>0</td>\n",
       "      <td>0</td>\n",
       "      <td>0</td>\n",
       "      <td>0</td>\n",
       "      <td>0</td>\n",
       "      <td>0</td>\n",
       "      <td>0</td>\n",
       "      <td>0</td>\n",
       "      <td>0</td>\n",
       "      <td>0</td>\n",
       "      <td>...</td>\n",
       "      <td>0</td>\n",
       "      <td>0</td>\n",
       "      <td>0</td>\n",
       "      <td>0</td>\n",
       "      <td>0</td>\n",
       "      <td>0</td>\n",
       "      <td>0</td>\n",
       "      <td>0</td>\n",
       "      <td>0</td>\n",
       "      <td>0</td>\n",
       "    </tr>\n",
       "    <tr>\n",
       "      <th>4</th>\n",
       "      <td>0</td>\n",
       "      <td>0</td>\n",
       "      <td>0</td>\n",
       "      <td>0</td>\n",
       "      <td>0</td>\n",
       "      <td>0</td>\n",
       "      <td>0</td>\n",
       "      <td>0</td>\n",
       "      <td>0</td>\n",
       "      <td>0</td>\n",
       "      <td>...</td>\n",
       "      <td>0</td>\n",
       "      <td>0</td>\n",
       "      <td>0</td>\n",
       "      <td>0</td>\n",
       "      <td>0</td>\n",
       "      <td>0</td>\n",
       "      <td>0</td>\n",
       "      <td>0</td>\n",
       "      <td>0</td>\n",
       "      <td>0</td>\n",
       "    </tr>\n",
       "  </tbody>\n",
       "</table>\n",
       "<p>5 rows × 6877 columns</p>\n",
       "</div>"
      ],
      "text/plain": [
       "   00  000  000419  00a  00am  00p  00pm  0200  03  04   ...    zagg  zambia  \\\n",
       "0   0    0       0    0     0    0     0     0   0   0   ...       0       0   \n",
       "1   0    0       0    0     0    0     0     0   0   0   ...       0       0   \n",
       "2   0    0       0    0     0    0     0     0   0   0   ...       0       0   \n",
       "3   0    0       0    0     0    0     0     0   0   0   ...       0       0   \n",
       "4   0    0       0    0     0    0     0     0   0   0   ...       0       0   \n",
       "\n",
       "   zcc82u  zero  zig  zip  zipper  zone  zoom  zurich  \n",
       "0       0     0    0    0       0     0     0       0  \n",
       "1       0     0    0    0       0     0     0       0  \n",
       "2       0     0    0    0       0     0     0       0  \n",
       "3       0     0    0    0       0     0     0       0  \n",
       "4       0     0    0    0       0     0     0       0  \n",
       "\n",
       "[5 rows x 6877 columns]"
      ]
     },
     "execution_count": 31,
     "metadata": {},
     "output_type": "execute_result"
    }
   ],
   "source": [
    "count_df = pd.DataFrame(count_train.A, columns=count_vectorizer.get_feature_names())\n",
    "count_df.head()"
   ]
  },
  {
   "cell_type": "markdown",
   "metadata": {},
   "source": [
    "## TFIDF"
   ]
  },
  {
   "cell_type": "code",
   "execution_count": 32,
   "metadata": {},
   "outputs": [],
   "source": [
    "from sklearn.feature_extraction.text import TfidfVectorizer\n",
    "\n",
    "tfidf_vectorizer = TfidfVectorizer(stop_words='english',max_df=0.7)\n",
    "tfidf_train = tfidf_vectorizer.fit_transform(X_train_cleaned)\n",
    "tfidf_test = tfidf_vectorizer.transform(X_test_cleaned)"
   ]
  },
  {
   "cell_type": "code",
   "execution_count": 33,
   "metadata": {},
   "outputs": [
    {
     "data": {
      "text/html": [
       "<div>\n",
       "<style scoped>\n",
       "    .dataframe tbody tr th:only-of-type {\n",
       "        vertical-align: middle;\n",
       "    }\n",
       "\n",
       "    .dataframe tbody tr th {\n",
       "        vertical-align: top;\n",
       "    }\n",
       "\n",
       "    .dataframe thead th {\n",
       "        text-align: right;\n",
       "    }\n",
       "</style>\n",
       "<table border=\"1\" class=\"dataframe\">\n",
       "  <thead>\n",
       "    <tr style=\"text-align: right;\">\n",
       "      <th></th>\n",
       "      <th>00</th>\n",
       "      <th>000</th>\n",
       "      <th>000419</th>\n",
       "      <th>00a</th>\n",
       "      <th>00am</th>\n",
       "      <th>00p</th>\n",
       "      <th>00pm</th>\n",
       "      <th>0200</th>\n",
       "      <th>03</th>\n",
       "      <th>04</th>\n",
       "      <th>...</th>\n",
       "      <th>zagg</th>\n",
       "      <th>zambia</th>\n",
       "      <th>zcc82u</th>\n",
       "      <th>zero</th>\n",
       "      <th>zig</th>\n",
       "      <th>zip</th>\n",
       "      <th>zipper</th>\n",
       "      <th>zone</th>\n",
       "      <th>zoom</th>\n",
       "      <th>zurich</th>\n",
       "    </tr>\n",
       "  </thead>\n",
       "  <tbody>\n",
       "    <tr>\n",
       "      <th>0</th>\n",
       "      <td>0.0</td>\n",
       "      <td>0.0</td>\n",
       "      <td>0.0</td>\n",
       "      <td>0.0</td>\n",
       "      <td>0.0</td>\n",
       "      <td>0.0</td>\n",
       "      <td>0.0</td>\n",
       "      <td>0.0</td>\n",
       "      <td>0.0</td>\n",
       "      <td>0.0</td>\n",
       "      <td>...</td>\n",
       "      <td>0.0</td>\n",
       "      <td>0.0</td>\n",
       "      <td>0.0</td>\n",
       "      <td>0.0</td>\n",
       "      <td>0.0</td>\n",
       "      <td>0.0</td>\n",
       "      <td>0.0</td>\n",
       "      <td>0.0</td>\n",
       "      <td>0.0</td>\n",
       "      <td>0.0</td>\n",
       "    </tr>\n",
       "    <tr>\n",
       "      <th>1</th>\n",
       "      <td>0.0</td>\n",
       "      <td>0.0</td>\n",
       "      <td>0.0</td>\n",
       "      <td>0.0</td>\n",
       "      <td>0.0</td>\n",
       "      <td>0.0</td>\n",
       "      <td>0.0</td>\n",
       "      <td>0.0</td>\n",
       "      <td>0.0</td>\n",
       "      <td>0.0</td>\n",
       "      <td>...</td>\n",
       "      <td>0.0</td>\n",
       "      <td>0.0</td>\n",
       "      <td>0.0</td>\n",
       "      <td>0.0</td>\n",
       "      <td>0.0</td>\n",
       "      <td>0.0</td>\n",
       "      <td>0.0</td>\n",
       "      <td>0.0</td>\n",
       "      <td>0.0</td>\n",
       "      <td>0.0</td>\n",
       "    </tr>\n",
       "    <tr>\n",
       "      <th>2</th>\n",
       "      <td>0.0</td>\n",
       "      <td>0.0</td>\n",
       "      <td>0.0</td>\n",
       "      <td>0.0</td>\n",
       "      <td>0.0</td>\n",
       "      <td>0.0</td>\n",
       "      <td>0.0</td>\n",
       "      <td>0.0</td>\n",
       "      <td>0.0</td>\n",
       "      <td>0.0</td>\n",
       "      <td>...</td>\n",
       "      <td>0.0</td>\n",
       "      <td>0.0</td>\n",
       "      <td>0.0</td>\n",
       "      <td>0.0</td>\n",
       "      <td>0.0</td>\n",
       "      <td>0.0</td>\n",
       "      <td>0.0</td>\n",
       "      <td>0.0</td>\n",
       "      <td>0.0</td>\n",
       "      <td>0.0</td>\n",
       "    </tr>\n",
       "    <tr>\n",
       "      <th>3</th>\n",
       "      <td>0.0</td>\n",
       "      <td>0.0</td>\n",
       "      <td>0.0</td>\n",
       "      <td>0.0</td>\n",
       "      <td>0.0</td>\n",
       "      <td>0.0</td>\n",
       "      <td>0.0</td>\n",
       "      <td>0.0</td>\n",
       "      <td>0.0</td>\n",
       "      <td>0.0</td>\n",
       "      <td>...</td>\n",
       "      <td>0.0</td>\n",
       "      <td>0.0</td>\n",
       "      <td>0.0</td>\n",
       "      <td>0.0</td>\n",
       "      <td>0.0</td>\n",
       "      <td>0.0</td>\n",
       "      <td>0.0</td>\n",
       "      <td>0.0</td>\n",
       "      <td>0.0</td>\n",
       "      <td>0.0</td>\n",
       "    </tr>\n",
       "    <tr>\n",
       "      <th>4</th>\n",
       "      <td>0.0</td>\n",
       "      <td>0.0</td>\n",
       "      <td>0.0</td>\n",
       "      <td>0.0</td>\n",
       "      <td>0.0</td>\n",
       "      <td>0.0</td>\n",
       "      <td>0.0</td>\n",
       "      <td>0.0</td>\n",
       "      <td>0.0</td>\n",
       "      <td>0.0</td>\n",
       "      <td>...</td>\n",
       "      <td>0.0</td>\n",
       "      <td>0.0</td>\n",
       "      <td>0.0</td>\n",
       "      <td>0.0</td>\n",
       "      <td>0.0</td>\n",
       "      <td>0.0</td>\n",
       "      <td>0.0</td>\n",
       "      <td>0.0</td>\n",
       "      <td>0.0</td>\n",
       "      <td>0.0</td>\n",
       "    </tr>\n",
       "  </tbody>\n",
       "</table>\n",
       "<p>5 rows × 6877 columns</p>\n",
       "</div>"
      ],
      "text/plain": [
       "    00  000  000419  00a  00am  00p  00pm  0200   03   04   ...    zagg  \\\n",
       "0  0.0  0.0     0.0  0.0   0.0  0.0   0.0   0.0  0.0  0.0   ...     0.0   \n",
       "1  0.0  0.0     0.0  0.0   0.0  0.0   0.0   0.0  0.0  0.0   ...     0.0   \n",
       "2  0.0  0.0     0.0  0.0   0.0  0.0   0.0   0.0  0.0  0.0   ...     0.0   \n",
       "3  0.0  0.0     0.0  0.0   0.0  0.0   0.0   0.0  0.0  0.0   ...     0.0   \n",
       "4  0.0  0.0     0.0  0.0   0.0  0.0   0.0   0.0  0.0  0.0   ...     0.0   \n",
       "\n",
       "   zambia  zcc82u  zero  zig  zip  zipper  zone  zoom  zurich  \n",
       "0     0.0     0.0   0.0  0.0  0.0     0.0   0.0   0.0     0.0  \n",
       "1     0.0     0.0   0.0  0.0  0.0     0.0   0.0   0.0     0.0  \n",
       "2     0.0     0.0   0.0  0.0  0.0     0.0   0.0   0.0     0.0  \n",
       "3     0.0     0.0   0.0  0.0  0.0     0.0   0.0   0.0     0.0  \n",
       "4     0.0     0.0   0.0  0.0  0.0     0.0   0.0   0.0     0.0  \n",
       "\n",
       "[5 rows x 6877 columns]"
      ]
     },
     "execution_count": 33,
     "metadata": {},
     "output_type": "execute_result"
    }
   ],
   "source": [
    "tfidf_df = pd.DataFrame(tfidf_train.A, columns=tfidf_vectorizer.get_feature_names())\n",
    "tfidf_df.head()"
   ]
  },
  {
   "cell_type": "markdown",
   "metadata": {},
   "source": [
    "#   Model Building"
   ]
  },
  {
   "cell_type": "markdown",
   "metadata": {},
   "source": [
    "## Naive Bayes using CountVectorization"
   ]
  },
  {
   "cell_type": "code",
   "execution_count": 34,
   "metadata": {},
   "outputs": [
    {
     "data": {
      "text/plain": [
       "0.7493791390728477"
      ]
     },
     "execution_count": 34,
     "metadata": {},
     "output_type": "execute_result"
    }
   ],
   "source": [
    "nb_classifier = MultinomialNB()\n",
    "nb_classifier.fit(count_train,y_train)\n",
    "pred = nb_classifier.predict(count_test)\n",
    "metrics.accuracy_score(y_test,pred)"
   ]
  },
  {
   "cell_type": "code",
   "execution_count": 35,
   "metadata": {},
   "outputs": [
    {
     "data": {
      "text/plain": [
       "array([[2827,  115,   62],\n",
       "       [ 575,  374,   78],\n",
       "       [ 317,   64,  420]])"
      ]
     },
     "execution_count": 35,
     "metadata": {},
     "output_type": "execute_result"
    }
   ],
   "source": [
    "metrics.confusion_matrix(y_test,pred,labels=nb_classifier.classes_)"
   ]
  },
  {
   "cell_type": "code",
   "execution_count": 36,
   "metadata": {},
   "outputs": [],
   "source": [
    "labels = nb_classifier.classes_\n",
    "conf_df = pd.DataFrame(metrics.confusion_matrix(y_test, pred), columns=labels, index=labels)\n",
    "conf_df.index.name = 'True labels'"
   ]
  },
  {
   "cell_type": "code",
   "execution_count": 32,
   "metadata": {},
   "outputs": [
    {
     "data": {
      "text/html": [
       "<div>\n",
       "<style scoped>\n",
       "    .dataframe tbody tr th:only-of-type {\n",
       "        vertical-align: middle;\n",
       "    }\n",
       "\n",
       "    .dataframe tbody tr th {\n",
       "        vertical-align: top;\n",
       "    }\n",
       "\n",
       "    .dataframe thead th {\n",
       "        text-align: right;\n",
       "    }\n",
       "</style>\n",
       "<table border=\"1\" class=\"dataframe\">\n",
       "  <thead>\n",
       "    <tr style=\"text-align: right;\">\n",
       "      <th></th>\n",
       "      <th>negative</th>\n",
       "      <th>neutral</th>\n",
       "      <th>positive</th>\n",
       "    </tr>\n",
       "    <tr>\n",
       "      <th>True labels</th>\n",
       "      <th></th>\n",
       "      <th></th>\n",
       "      <th></th>\n",
       "    </tr>\n",
       "  </thead>\n",
       "  <tbody>\n",
       "    <tr>\n",
       "      <th>negative</th>\n",
       "      <td>2824</td>\n",
       "      <td>118</td>\n",
       "      <td>62</td>\n",
       "    </tr>\n",
       "    <tr>\n",
       "      <th>neutral</th>\n",
       "      <td>572</td>\n",
       "      <td>376</td>\n",
       "      <td>79</td>\n",
       "    </tr>\n",
       "    <tr>\n",
       "      <th>positive</th>\n",
       "      <td>316</td>\n",
       "      <td>65</td>\n",
       "      <td>420</td>\n",
       "    </tr>\n",
       "  </tbody>\n",
       "</table>\n",
       "</div>"
      ],
      "text/plain": [
       "             negative  neutral  positive\n",
       "True labels                             \n",
       "negative         2824      118        62\n",
       "neutral           572      376        79\n",
       "positive          316       65       420"
      ]
     },
     "execution_count": 32,
     "metadata": {},
     "output_type": "execute_result"
    }
   ],
   "source": [
    "conf_df"
   ]
  },
  {
   "cell_type": "markdown",
   "metadata": {},
   "source": [
    "## Cross validation"
   ]
  },
  {
   "cell_type": "code",
   "execution_count": 38,
   "metadata": {},
   "outputs": [
    {
     "name": "stdout",
     "output_type": "stream",
     "text": [
      "[0.75331295 0.74923547 0.74311927 0.74719674 0.74821611 0.73700306\n",
      " 0.74923547 0.73496432 0.75408163 0.7244898 ]\n",
      "0.7440854812873162\n"
     ]
    }
   ],
   "source": [
    "from sklearn.model_selection import KFold, cross_val_score\n",
    "k_fold = KFold(n_splits=10, shuffle=True, random_state=0)\n",
    "clf = MultinomialNB()\n",
    "print(cross_val_score(clf, count_train, y_train, cv=k_fold, n_jobs=1))\n",
    "print(cross_val_score(clf, count_train, y_train, cv=k_fold, n_jobs=1).mean())"
   ]
  },
  {
   "cell_type": "markdown",
   "metadata": {},
   "source": [
    "## SVC using using CountVectorization"
   ]
  },
  {
   "cell_type": "code",
   "execution_count": 39,
   "metadata": {},
   "outputs": [
    {
     "data": {
      "text/plain": [
       "0.7704884105960265"
      ]
     },
     "execution_count": 39,
     "metadata": {},
     "output_type": "execute_result"
    }
   ],
   "source": [
    "svc_classifier = SVC()\n",
    "svc_classifier.fit(count_train,y_train)\n",
    "pred = svc_classifier.predict(count_test)\n",
    "metrics.accuracy_score(y_test,pred)"
   ]
  },
  {
   "cell_type": "markdown",
   "metadata": {},
   "source": [
    "## Cross validation"
   ]
  },
  {
   "cell_type": "code",
   "execution_count": 40,
   "metadata": {},
   "outputs": [
    {
     "name": "stdout",
     "output_type": "stream",
     "text": [
      "[0.75535168 0.76554536 0.77166157 0.75840979 0.75331295 0.745158\n",
      " 0.78389399 0.74413863 0.77346939 0.73061224]\n",
      "0.7581553600033286\n"
     ]
    }
   ],
   "source": [
    "from sklearn.model_selection import KFold, cross_val_score\n",
    "k_fold = KFold(n_splits=10, shuffle=True, random_state=0)\n",
    "clf = SVC()\n",
    "print(cross_val_score(clf, count_train, y_train, cv=k_fold, n_jobs=1))\n",
    "\n",
    "print(cross_val_score(clf, count_train, y_train, cv=k_fold, n_jobs=1).mean())"
   ]
  },
  {
   "cell_type": "markdown",
   "metadata": {},
   "source": [
    "## Naive Bayes using Tfidf"
   ]
  },
  {
   "cell_type": "code",
   "execution_count": 41,
   "metadata": {},
   "outputs": [
    {
     "data": {
      "text/plain": [
       "0.6827400662251656"
      ]
     },
     "execution_count": 41,
     "metadata": {},
     "output_type": "execute_result"
    }
   ],
   "source": [
    "nb_classifier = MultinomialNB()\n",
    "nb_classifier.fit(tfidf_train,y_train)\n",
    "pred = nb_classifier.predict(tfidf_test)\n",
    "metrics.accuracy_score(y_test,pred)"
   ]
  },
  {
   "cell_type": "markdown",
   "metadata": {},
   "source": [
    "## Cross validation"
   ]
  },
  {
   "cell_type": "code",
   "execution_count": 43,
   "metadata": {},
   "outputs": [
    {
     "name": "stdout",
     "output_type": "stream",
     "text": [
      "[0.70642202 0.70642202 0.67482161 0.67787971 0.69520897 0.66768603\n",
      " 0.69520897 0.68093782 0.69897959 0.66428571]\n",
      "0.6867852462085751\n"
     ]
    }
   ],
   "source": [
    "from sklearn.model_selection import KFold, cross_val_score\n",
    "k_fold = KFold(n_splits=10, shuffle=True, random_state=0)\n",
    "clf = MultinomialNB()\n",
    "print(cross_val_score(clf, tfidf_train, y_train, cv=k_fold, n_jobs=1))\n",
    "print(cross_val_score(clf, tfidf_train, y_train, cv=k_fold, n_jobs=1).mean())"
   ]
  },
  {
   "cell_type": "markdown",
   "metadata": {},
   "source": [
    "## SVC using Tfidf"
   ]
  },
  {
   "cell_type": "code",
   "execution_count": 44,
   "metadata": {},
   "outputs": [
    {
     "data": {
      "text/plain": [
       "0.7651076158940397"
      ]
     },
     "execution_count": 44,
     "metadata": {},
     "output_type": "execute_result"
    }
   ],
   "source": [
    "svc_classifier = SVC()\n",
    "svc_classifier.fit(tfidf_train,y_train)\n",
    "pred = svc_classifier.predict(tfidf_test)\n",
    "metrics.accuracy_score(y_test,pred)"
   ]
  },
  {
   "cell_type": "markdown",
   "metadata": {},
   "source": [
    "## cross validation"
   ]
  },
  {
   "cell_type": "code",
   "execution_count": 45,
   "metadata": {},
   "outputs": [
    {
     "name": "stdout",
     "output_type": "stream",
     "text": [
      "[0.76146789 0.75535168 0.75637105 0.75229358 0.75739042 0.72986748\n",
      " 0.7675841  0.73190622 0.76122449 0.72755102]\n",
      "0.7501007926106221\n"
     ]
    }
   ],
   "source": [
    "from sklearn.model_selection import KFold, cross_val_score\n",
    "k_fold = KFold(n_splits=10, shuffle=True, random_state=0)\n",
    "clf = SVC()\n",
    "print(cross_val_score(clf, tfidf_train, y_train, cv=k_fold, n_jobs=1))\n",
    "print(cross_val_score(clf, tfidf_train, y_train, cv=k_fold, n_jobs=1).mean())"
   ]
  },
  {
   "cell_type": "markdown",
   "metadata": {},
   "source": [
    "# Gensim word2vec\n",
    "## training model from scratch"
   ]
  },
  {
   "cell_type": "code",
   "execution_count": 46,
   "metadata": {},
   "outputs": [],
   "source": [
    "# import packages and dataset \n",
    "\n",
    "import gensim\n",
    "from gensim.models import Word2Vec\n",
    "from gensim.parsing.preprocessing import remove_stopwords\n",
    "from gensim.utils import simple_preprocess\n",
    "import preprocessor as p\n",
    "\n",
    "df = pd.read_csv(\"/Data Science/DSC/Natural Language Processing.bin/dataset/Tweets.csv\")\n",
    "df['airline_sentiment'] = df['airline_sentiment'].map({'positive':1,'neutral':0,'negative':-1})"
   ]
  },
  {
   "cell_type": "code",
   "execution_count": 47,
   "metadata": {},
   "outputs": [
    {
     "data": {
      "text/plain": [
       "0                                                                                                         @VirginAmerica What @dhepburn said.\n",
       "1                                                                    @VirginAmerica plus you've added commercials to the experience... tacky.\n",
       "2                                                                     @VirginAmerica I didn't today... Must mean I need to take another trip!\n",
       "3              @VirginAmerica it's really aggressive to blast obnoxious \"entertainment\" in your guests' faces &amp; they have little recourse\n",
       "4                                                                                     @VirginAmerica and it's a really big bad thing about it\n",
       "5    @VirginAmerica seriously would pay $30 a flight for seats that didn't have this playing.\\nit's really the only bad thing about flying VA\n",
       "6                                                             @VirginAmerica yes, nearly every time I fly VX this “ear worm” won’t go away :)\n",
       "7                                @VirginAmerica Really missed a prime opportunity for Men Without Hats parody, there. https://t.co/mWpG7grEZP\n",
       "8                                                                                             @virginamerica Well, I didn't…but NOW I DO! :-D\n",
       "9                                                            @VirginAmerica it was amazing, and arrived an hour early. You're too good to me.\n",
       "Name: text, dtype: object"
      ]
     },
     "execution_count": 47,
     "metadata": {},
     "output_type": "execute_result"
    }
   ],
   "source": [
    "## check the first 10 rows \n",
    "df['text'].iloc[0:10]"
   ]
  },
  {
   "cell_type": "code",
   "execution_count": 48,
   "metadata": {},
   "outputs": [],
   "source": [
    "## define fuction for data cleaning\n",
    "def labelize_reviews(tweets):\n",
    "    for i, v in enumerate(tweets):\n",
    "        v_clean = p.clean(v).lower()   # imported tweets processor\n",
    "        v_clean_1 = expand_contractions(v_clean)  # expand_contraction defined above\n",
    "        v_clean_2 = remove_stopwords(v_clean_1)\n",
    "        yield gensim.utils.simple_preprocess(v_clean_2, min_len=3 ,max_len=50)"
   ]
  },
  {
   "cell_type": "code",
   "execution_count": 49,
   "metadata": {},
   "outputs": [],
   "source": [
    "## clean the text \n",
    "df_tagged = list(labelize_reviews(df['text']))"
   ]
  },
  {
   "cell_type": "code",
   "execution_count": 50,
   "metadata": {},
   "outputs": [
    {
     "data": {
      "text/plain": [
       "[['said'],\n",
       " ['plus', 'added', 'commercials', 'experience', 'tacky'],\n",
       " ['today', 'mean', 'need', 'trip'],\n",
       " ['aggressive',\n",
       "  'blast',\n",
       "  'obnoxious',\n",
       "  'entertainment',\n",
       "  'guests',\n",
       "  'faces',\n",
       "  'amp',\n",
       "  'little',\n",
       "  'recourse'],\n",
       " ['big', 'bad', 'thing'],\n",
       " ['seriously', 'pay', 'flight', 'seats', 'playing', 'bad', 'thing', 'flying'],\n",
       " ['yes', 'nearly', 'time', 'fly', 'ear', 'worm', 'wont', 'away'],\n",
       " ['missed', 'prime', 'opportunity', 'men', 'hats', 'parody', 'there'],\n",
       " ['well', 'notbut'],\n",
       " ['amazing', 'arrived', 'hour', 'early', 'good']]"
      ]
     },
     "execution_count": 50,
     "metadata": {},
     "output_type": "execute_result"
    }
   ],
   "source": [
    "## check cleaned data\n",
    "df_tagged[0:10]"
   ]
  },
  {
   "cell_type": "code",
   "execution_count": 51,
   "metadata": {},
   "outputs": [],
   "source": [
    "## define the parameters for word2vec model traning \n",
    "import multiprocessing\n",
    "num_features = 100\n",
    "min_word_count = 5\n",
    "num_workers = multiprocessing.cpu_count()\n",
    "context_size = 5\n",
    "seed = 1"
   ]
  },
  {
   "cell_type": "code",
   "execution_count": 52,
   "metadata": {},
   "outputs": [],
   "source": [
    "## define gensim word2vec model \n",
    "import gensim\n",
    "word2vec_model = gensim.models.Word2Vec(\n",
    "    sg=0,\n",
    "    seed=seed,\n",
    "    workers=num_workers, \n",
    "    size=num_features, \n",
    "    min_count=min_word_count, \n",
    "    window=context_size)"
   ]
  },
  {
   "cell_type": "code",
   "execution_count": 53,
   "metadata": {},
   "outputs": [
    {
     "name": "stdout",
     "output_type": "stream",
     "text": [
      "The vocabulary is built\n",
      "Word2Vec vocabulary length:  2631\n"
     ]
    }
   ],
   "source": [
    "# check the size of vocabulary\n",
    "word2vec_model.build_vocab(sentences=df_tagged)\n",
    "print(\"The vocabulary is built\")\n",
    "print(\"Word2Vec vocabulary length: \", len(word2vec_model.wv.vocab))"
   ]
  },
  {
   "cell_type": "code",
   "execution_count": 54,
   "metadata": {},
   "outputs": [
    {
     "name": "stdout",
     "output_type": "stream",
     "text": [
      "Training finished\n"
     ]
    }
   ],
   "source": [
    "## train gensim model using cleaned data \n",
    "word2vec_model.train(sentences=df_tagged,total_examples=word2vec_model.corpus_count,epochs=500)\n",
    "print(\"Training finished\") "
   ]
  },
  {
   "cell_type": "code",
   "execution_count": 55,
   "metadata": {},
   "outputs": [],
   "source": [
    "## define the function to caculate the average value for each document in the corpus \n",
    "\n",
    "def build_word_vector(text, size=num_features):\n",
    "    vec = np.zeros(size).reshape((1, size))\n",
    "    count = 0.\n",
    "    for word in text:\n",
    "        try:\n",
    "            vec += word2vec_model[word]\n",
    "            count += 1.\n",
    "        except KeyError:\n",
    "            continue\n",
    "    if count != 0:\n",
    "        vec /= count\n",
    "    return vec"
   ]
  },
  {
   "cell_type": "code",
   "execution_count": 56,
   "metadata": {},
   "outputs": [],
   "source": [
    "## create the matriix of word vector for the entire corpus \n",
    "df_vecs = np.concatenate([build_word_vector(z) for z in df_tagged])"
   ]
  },
  {
   "cell_type": "code",
   "execution_count": 57,
   "metadata": {},
   "outputs": [],
   "source": [
    "## train test split \n",
    "X_vec_train,X_vec_test,y_train,y_test = train_test_split(df_vecs,df['airline_sentiment'],test_size=0.33, random_state=53)"
   ]
  },
  {
   "cell_type": "code",
   "execution_count": 58,
   "metadata": {},
   "outputs": [
    {
     "name": "stdout",
     "output_type": "stream",
     "text": [
      "0.7433774834437086\n"
     ]
    }
   ],
   "source": [
    "## using Logistis Regression \n",
    "train_vecs = scale(X_vec_train)\n",
    "test_vecs = scale(X_vec_test)\n",
    "classifier = LogisticRegression()\n",
    "classifier.fit(train_vecs, y_train)\n",
    "print(classifier.score(test_vecs, y_test))"
   ]
  },
  {
   "cell_type": "code",
   "execution_count": 59,
   "metadata": {},
   "outputs": [
    {
     "name": "stdout",
     "output_type": "stream",
     "text": [
      "0.7630380794701986\n"
     ]
    }
   ],
   "source": [
    "## using SVC model \n",
    "svc_classifier = SVC()\n",
    "svc_classifier.fit(train_vecs, y_train)\n",
    "\n",
    "print(svc_classifier.score(test_vecs, y_test))"
   ]
  },
  {
   "cell_type": "markdown",
   "metadata": {},
   "source": [
    "## Using pre-trianed word2vec model "
   ]
  },
  {
   "cell_type": "code",
   "execution_count": 60,
   "metadata": {},
   "outputs": [],
   "source": [
    "## import pre-trained Google News model with 300 dimensions for word vector\n",
    "import gensim\n",
    "from gensim.models import Word2Vec\n",
    "from gensim.models import KeyedVectors\n",
    "gn_path = 'GoogleNews-vectors-negative300.bin'\n",
    "gn_model = KeyedVectors.load_word2vec_format(gn_path, binary=True)"
   ]
  },
  {
   "cell_type": "code",
   "execution_count": 61,
   "metadata": {},
   "outputs": [],
   "source": [
    "## define the function to caculate the average value for each document in the corpus \n",
    "def build_word_vector_1(text, size=300):\n",
    "    vec = np.zeros(size).reshape((1, size))\n",
    "    count = 0.\n",
    "    for word in text:\n",
    "        try:\n",
    "            vec += gn_model[word]\n",
    "            count += 1.\n",
    "        except KeyError:\n",
    "            continue\n",
    "    if count != 0:\n",
    "        vec /= count\n",
    "    return vec"
   ]
  },
  {
   "cell_type": "code",
   "execution_count": 62,
   "metadata": {},
   "outputs": [],
   "source": [
    "## ## create the matriix of word vector for the entire corpus \n",
    "df_vecs = np.concatenate([build_word_vector_1(z) for z in df_tagged])"
   ]
  },
  {
   "cell_type": "code",
   "execution_count": 63,
   "metadata": {},
   "outputs": [],
   "source": [
    "## train test split\n",
    "X_vec_train,X_vec_test,y_train,y_test = train_test_split(df_vecs,df['airline_sentiment'],test_size=0.33, random_state=53)"
   ]
  },
  {
   "cell_type": "code",
   "execution_count": 64,
   "metadata": {},
   "outputs": [
    {
     "name": "stdout",
     "output_type": "stream",
     "text": [
      "0.7659354304635762\n"
     ]
    }
   ],
   "source": [
    "#train_vecs = scale(X_vec_train)\n",
    "#test_vecs = scale(X_vec_test)\n",
    "classifier = LogisticRegression()\n",
    "classifier.fit(X_vec_train, y_train)\n",
    "\n",
    "print(classifier.score(X_vec_test, y_test))"
   ]
  },
  {
   "cell_type": "code",
   "execution_count": 65,
   "metadata": {},
   "outputs": [
    {
     "name": "stdout",
     "output_type": "stream",
     "text": [
      "[0.78415301 0.7807377  0.77595628 0.7602459  0.78825137 0.79781421\n",
      " 0.79508197 0.76912568 0.78756831 0.78415301]\n",
      "0.7823087431693989\n"
     ]
    }
   ],
   "source": [
    "## cross validaiton using SVC\n",
    "from sklearn.model_selection import KFold, cross_val_score\n",
    "k_fold = KFold(n_splits=10, shuffle=True, random_state=0)\n",
    "clf = SVC()\n",
    "print(cross_val_score(clf, df_vecs, df['airline_sentiment'], cv=k_fold, n_jobs=1))\n",
    "print(cross_val_score(clf, df_vecs, df['airline_sentiment'], cv=k_fold, n_jobs=1).mean())"
   ]
  },
  {
   "cell_type": "code",
   "execution_count": 66,
   "metadata": {},
   "outputs": [],
   "source": [
    "from sklearn.tree import DecisionTreeClassifier"
   ]
  },
  {
   "cell_type": "code",
   "execution_count": 67,
   "metadata": {},
   "outputs": [
    {
     "name": "stdout",
     "output_type": "stream",
     "text": [
      "[0.61270492 0.61680328 0.61065574 0.59153005 0.61885246 0.62090164\n",
      " 0.6181694  0.62431694 0.6181694  0.64754098]\n",
      "0.619535519125683\n"
     ]
    }
   ],
   "source": [
    "## cross validation using decision tree\n",
    "\n",
    "from sklearn.model_selection import KFold, cross_val_score\n",
    "k_fold = KFold(n_splits=10, shuffle=True, random_state=0)\n",
    "clf = DecisionTreeClassifier()\n",
    "print(cross_val_score(clf, df_vecs, df['airline_sentiment'], cv=k_fold, n_jobs=1))\n",
    "print(cross_val_score(clf, df_vecs, df['airline_sentiment'], cv=k_fold, n_jobs=1).mean())"
   ]
  },
  {
   "cell_type": "code",
   "execution_count": 68,
   "metadata": {},
   "outputs": [
    {
     "name": "stdout",
     "output_type": "stream",
     "text": [
      "[0.74795082 0.75819672 0.76297814 0.7465847  0.77663934 0.77459016\n",
      " 0.77459016 0.76502732 0.77117486 0.7602459 ]\n",
      "0.7637978142076502\n"
     ]
    }
   ],
   "source": [
    "## cross validation using Logistic regression \n",
    "from sklearn.model_selection import KFold, cross_val_score\n",
    "k_fold = KFold(n_splits=10, shuffle=True, random_state=0)\n",
    "clf = LogisticRegression()\n",
    "print(cross_val_score(clf, df_vecs, df['airline_sentiment'], cv=k_fold, n_jobs=1))\n",
    "print(cross_val_score(clf, df_vecs, df['airline_sentiment'], cv=k_fold, n_jobs=1).mean())"
   ]
  },
  {
   "cell_type": "code",
   "execution_count": 69,
   "metadata": {},
   "outputs": [
    {
     "data": {
      "text/plain": [
       "GridSearchCV(cv=None, error_score=nan,\n",
       "             estimator=LogisticRegression(C=1.0, class_weight=None, dual=False,\n",
       "                                          fit_intercept=True,\n",
       "                                          intercept_scaling=1, l1_ratio=None,\n",
       "                                          max_iter=100, multi_class='auto',\n",
       "                                          n_jobs=None, penalty='l2',\n",
       "                                          random_state=None, solver='lbfgs',\n",
       "                                          tol=0.0001, verbose=0,\n",
       "                                          warm_start=False),\n",
       "             iid='deprecated', n_jobs=None,\n",
       "             param_grid={'C': [0.001, 0.1, 1, 10, 100]},\n",
       "             pre_dispatch='2*n_jobs', refit=True, return_train_score=False,\n",
       "             scoring=None, verbose=0)"
      ]
     },
     "execution_count": 69,
     "metadata": {},
     "output_type": "execute_result"
    }
   ],
   "source": [
    "## GridSearchCV using logistic regression\n",
    "from sklearn.model_selection import GridSearchCV\n",
    "parameters = {'C':[0.001, 0.1, 1, 10, 100]}\n",
    "logit = LogisticRegression()\n",
    "clf = GridSearchCV(logit, parameters)\n",
    "clf.fit(df_vecs, df['airline_sentiment'])"
   ]
  },
  {
   "cell_type": "code",
   "execution_count": 70,
   "metadata": {},
   "outputs": [
    {
     "data": {
      "text/plain": [
       "0.7546448087431694"
      ]
     },
     "execution_count": 70,
     "metadata": {},
     "output_type": "execute_result"
    }
   ],
   "source": [
    "clf.best_score_"
   ]
  },
  {
   "cell_type": "code",
   "execution_count": 71,
   "metadata": {},
   "outputs": [
    {
     "data": {
      "text/plain": [
       "{'C': 0.1}"
      ]
     },
     "execution_count": 71,
     "metadata": {},
     "output_type": "execute_result"
    }
   ],
   "source": [
    "clf.best_params_"
   ]
  },
  {
   "cell_type": "code",
   "execution_count": 72,
   "metadata": {},
   "outputs": [
    {
     "data": {
      "text/plain": [
       "GridSearchCV(cv=None, error_score=nan,\n",
       "             estimator=SVC(C=1.0, break_ties=False, cache_size=200,\n",
       "                           class_weight=None, coef0=0.0,\n",
       "                           decision_function_shape='ovr', degree=3,\n",
       "                           gamma='scale', kernel='rbf', max_iter=-1,\n",
       "                           probability=False, random_state=None, shrinking=True,\n",
       "                           tol=0.001, verbose=False),\n",
       "             iid='deprecated', n_jobs=None,\n",
       "             param_grid={'C': [0.001, 0.1, 1, 10, 100]},\n",
       "             pre_dispatch='2*n_jobs', refit=True, return_train_score=False,\n",
       "             scoring=None, verbose=0)"
      ]
     },
     "execution_count": 72,
     "metadata": {},
     "output_type": "execute_result"
    }
   ],
   "source": [
    "## GridSearchCV using SVC\n",
    "from sklearn.model_selection import GridSearchCV\n",
    "parameters = {'C':[0.001, 0.1, 1, 10, 100]}\n",
    "svc = SVC()\n",
    "clf = GridSearchCV(svc, parameters)\n",
    "clf.fit(df_vecs, df['airline_sentiment'])"
   ]
  },
  {
   "cell_type": "code",
   "execution_count": 73,
   "metadata": {},
   "outputs": [
    {
     "data": {
      "text/plain": [
       "0.773360655737705"
      ]
     },
     "execution_count": 73,
     "metadata": {},
     "output_type": "execute_result"
    }
   ],
   "source": [
    "clf.best_score_"
   ]
  },
  {
   "cell_type": "code",
   "execution_count": 74,
   "metadata": {},
   "outputs": [
    {
     "data": {
      "text/plain": [
       "{'C': 1}"
      ]
     },
     "execution_count": 74,
     "metadata": {},
     "output_type": "execute_result"
    }
   ],
   "source": [
    "clf.best_params_"
   ]
  },
  {
   "cell_type": "markdown",
   "metadata": {},
   "source": [
    "# Deep learning on Keras "
   ]
  },
  {
   "cell_type": "code",
   "execution_count": 164,
   "metadata": {},
   "outputs": [],
   "source": [
    "from numpy import array\n",
    "from keras.preprocessing.text import one_hot\n",
    "from keras.preprocessing.sequence import pad_sequences\n",
    "from keras.models import Sequential\n",
    "from keras.layers import Dense\n",
    "from keras.layers import Flatten\n",
    "from keras.layers.embeddings import Embedding"
   ]
  },
  {
   "cell_type": "code",
   "execution_count": 165,
   "metadata": {},
   "outputs": [
    {
     "data": {
      "text/plain": [
       "['what say',\n",
       " 'plus you have add commercial to the experience     tacky',\n",
       " 'i do not today     must mean i need to take another trip',\n",
       " 'it be really aggressive to blast obnoxious   entertainment   in your guest face   amp   they have little recourse',\n",
       " 'and it be a really big bad thing about it']"
      ]
     },
     "execution_count": 165,
     "metadata": {},
     "output_type": "execute_result"
    }
   ],
   "source": [
    "X_cleaned[0:5]"
   ]
  },
  {
   "cell_type": "code",
   "execution_count": 166,
   "metadata": {},
   "outputs": [
    {
     "data": {
      "text/plain": [
       "0    0\n",
       "1    1\n",
       "2    0\n",
       "3   -1\n",
       "4   -1\n",
       "Name: airline_sentiment, dtype: int64"
      ]
     },
     "execution_count": 166,
     "metadata": {},
     "output_type": "execute_result"
    }
   ],
   "source": [
    "df['airline_sentiment'][0:5]"
   ]
  },
  {
   "cell_type": "code",
   "execution_count": 167,
   "metadata": {},
   "outputs": [],
   "source": [
    "df_labels = keras.utils.to_categorical(df['airline_sentiment'], num_classes=3)"
   ]
  },
  {
   "cell_type": "code",
   "execution_count": 168,
   "metadata": {},
   "outputs": [
    {
     "data": {
      "text/plain": [
       "array([[1., 0., 0.],\n",
       "       [0., 1., 0.],\n",
       "       [1., 0., 0.],\n",
       "       [0., 0., 1.],\n",
       "       [0., 0., 1.]], dtype=float32)"
      ]
     },
     "execution_count": 168,
     "metadata": {},
     "output_type": "execute_result"
    }
   ],
   "source": [
    "df_labels[0:5]"
   ]
  },
  {
   "cell_type": "code",
   "execution_count": 169,
   "metadata": {},
   "outputs": [
    {
     "data": {
      "text/plain": [
       "[[43, 77],\n",
       " [477, 7, 12, 261, 1069, 2, 4, 160, 4538],\n",
       " [3, 15, 9, 91, 658, 306, 3, 59, 2, 75, 140, 164],\n",
       " [16,\n",
       "  1,\n",
       "  127,\n",
       "  2813,\n",
       "  2,\n",
       "  2415,\n",
       "  3376,\n",
       "  852,\n",
       "  14,\n",
       "  22,\n",
       "  1672,\n",
       "  959,\n",
       "  60,\n",
       "  48,\n",
       "  12,\n",
       "  433,\n",
       "  2146],\n",
       " [11, 16, 1, 6, 127, 375, 83, 252, 76, 16]]"
      ]
     },
     "execution_count": 169,
     "metadata": {},
     "output_type": "execute_result"
    }
   ],
   "source": [
    "from keras.preprocessing.text import Tokenizer\n",
    "tokenizer = Tokenizer()\n",
    "tokenizer.fit_on_texts(X_cleaned)\n",
    "sequences = tokenizer.texts_to_sequences(X_cleaned)\n",
    "sequences[0:5]"
   ]
  },
  {
   "cell_type": "code",
   "execution_count": 170,
   "metadata": {},
   "outputs": [
    {
     "name": "stdout",
     "output_type": "stream",
     "text": [
      "33\n"
     ]
    }
   ],
   "source": [
    "max_len = np.max([len(t) for t in sequences])\n",
    "print(max_len)"
   ]
  },
  {
   "cell_type": "code",
   "execution_count": 171,
   "metadata": {},
   "outputs": [
    {
     "name": "stdout",
     "output_type": "stream",
     "text": [
      "Found 8651 unique tokens.\n"
     ]
    }
   ],
   "source": [
    "word_index = tokenizer.word_index\n",
    "print('Found %s unique tokens.' % len(word_index))"
   ]
  },
  {
   "cell_type": "code",
   "execution_count": 173,
   "metadata": {},
   "outputs": [
    {
     "name": "stdout",
     "output_type": "stream",
     "text": [
      "(14640, 33)\n"
     ]
    }
   ],
   "source": [
    "padded_docs = pad_sequences(sequences, maxlen=max_len, padding='post')\n",
    "print(padded_docs.shape)"
   ]
  },
  {
   "cell_type": "code",
   "execution_count": 109,
   "metadata": {},
   "outputs": [
    {
     "data": {
      "text/plain": [
       "14640"
      ]
     },
     "execution_count": 109,
     "metadata": {},
     "output_type": "execute_result"
    }
   ],
   "source": [
    "len(X_cleaned)"
   ]
  },
  {
   "cell_type": "code",
   "execution_count": 82,
   "metadata": {},
   "outputs": [],
   "source": [
    "one_hot_results = tokenizer.texts_to_matrix(X_cleaned, mode='binary')"
   ]
  },
  {
   "cell_type": "code",
   "execution_count": 106,
   "metadata": {},
   "outputs": [
    {
     "data": {
      "text/plain": [
       "(14640, 8652)"
      ]
     },
     "execution_count": 106,
     "metadata": {},
     "output_type": "execute_result"
    }
   ],
   "source": [
    "one_hot_results.shape"
   ]
  },
  {
   "cell_type": "code",
   "execution_count": 83,
   "metadata": {},
   "outputs": [
    {
     "name": "stdout",
     "output_type": "stream",
     "text": [
      "Found 8651 unique tokens.\n"
     ]
    }
   ],
   "source": [
    "word_index = tokenizer.word_index\n",
    "print('Found %s unique tokens.' % len(word_index))"
   ]
  },
  {
   "cell_type": "code",
   "execution_count": 84,
   "metadata": {},
   "outputs": [
    {
     "data": {
      "text/plain": [
       "8651"
      ]
     },
     "execution_count": 84,
     "metadata": {},
     "output_type": "execute_result"
    }
   ],
   "source": [
    "len(word_index)"
   ]
  },
  {
   "cell_type": "code",
   "execution_count": 110,
   "metadata": {},
   "outputs": [
    {
     "name": "stdout",
     "output_type": "stream",
     "text": [
      "(14640, 33)\n"
     ]
    }
   ],
   "source": [
    "padded_docs = pad_sequences(sequences, maxlen=max_len, padding='post')\n",
    "print(padded_docs.shape)"
   ]
  },
  {
   "cell_type": "code",
   "execution_count": 180,
   "metadata": {},
   "outputs": [
    {
     "name": "stdout",
     "output_type": "stream",
     "text": [
      "_________________________________________________________________\n",
      "Layer (type)                 Output Shape              Param #   \n",
      "=================================================================\n",
      "embedding_17 (Embedding)     (None, 33, 64)            553728    \n",
      "_________________________________________________________________\n",
      "flatten_17 (Flatten)         (None, 2112)              0         \n",
      "_________________________________________________________________\n",
      "dense_29 (Dense)             (None, 3)                 6339      \n",
      "=================================================================\n",
      "Total params: 560,067\n",
      "Trainable params: 560,067\n",
      "Non-trainable params: 0\n",
      "_________________________________________________________________\n",
      "None\n"
     ]
    }
   ],
   "source": [
    "# define the model\n",
    "model = Sequential()\n",
    "model.add(Embedding(len(word_index)+1, 64, input_length=max_len))\n",
    "model.add(Flatten())\n",
    "model.add(Dense(3, activation='softmax'))\n",
    "# compile the model\n",
    "model.compile(optimizer='adam', loss='categorical_crossentropy', metrics=['accuracy'])\n",
    "# summarize the model\n",
    "print(model.summary())"
   ]
  },
  {
   "cell_type": "code",
   "execution_count": 181,
   "metadata": {},
   "outputs": [
    {
     "name": "stdout",
     "output_type": "stream",
     "text": [
      "Train on 11712 samples, validate on 2928 samples\n",
      "Epoch 1/10\n",
      "11712/11712 [==============================] - 7s 558us/step - loss: 0.8085 - acc: 0.6573 - val_loss: 0.5525 - val_acc: 0.7944\n",
      "Epoch 2/10\n",
      "11712/11712 [==============================] - 5s 429us/step - loss: 0.5407 - acc: 0.7917 - val_loss: 0.4622 - val_acc: 0.8265\n",
      "Epoch 3/10\n",
      "11712/11712 [==============================] - 5s 439us/step - loss: 0.4004 - acc: 0.8572 - val_loss: 0.4537 - val_acc: 0.8221\n",
      "Epoch 4/10\n",
      "11712/11712 [==============================] - 5s 426us/step - loss: 0.3075 - acc: 0.8948 - val_loss: 0.4580 - val_acc: 0.8241\n",
      "Epoch 5/10\n",
      "11712/11712 [==============================] - 5s 429us/step - loss: 0.2348 - acc: 0.9269 - val_loss: 0.4812 - val_acc: 0.8227\n",
      "Epoch 6/10\n",
      "11712/11712 [==============================] - 5s 429us/step - loss: 0.1802 - acc: 0.9510 - val_loss: 0.4990 - val_acc: 0.8204\n",
      "Epoch 7/10\n",
      "11712/11712 [==============================] - 6s 474us/step - loss: 0.1380 - acc: 0.9676 - val_loss: 0.5206 - val_acc: 0.8193\n",
      "Epoch 8/10\n",
      "11712/11712 [==============================] - 5s 455us/step - loss: 0.1078 - acc: 0.9751 - val_loss: 0.5453 - val_acc: 0.8169\n",
      "Epoch 9/10\n",
      "11712/11712 [==============================] - 5s 454us/step - loss: 0.0863 - acc: 0.9807 - val_loss: 0.5797 - val_acc: 0.8098\n",
      "Epoch 10/10\n",
      "11712/11712 [==============================] - 6s 473us/step - loss: 0.0717 - acc: 0.9838 - val_loss: 0.5996 - val_acc: 0.8067\n"
     ]
    },
    {
     "data": {
      "text/plain": [
       "<keras.callbacks.History at 0x1c294d0a58>"
      ]
     },
     "execution_count": 181,
     "metadata": {},
     "output_type": "execute_result"
    }
   ],
   "source": [
    "model.fit(padded_docs, df_labels, epochs=10, batch_size=64,validation_split=0.2)"
   ]
  },
  {
   "cell_type": "markdown",
   "metadata": {},
   "source": [
    "# Using Pre-Trained GloVe Embedding"
   ]
  },
  {
   "cell_type": "code",
   "execution_count": 187,
   "metadata": {},
   "outputs": [
    {
     "name": "stdout",
     "output_type": "stream",
     "text": [
      "Found 400000 word vectors.\n"
     ]
    }
   ],
   "source": [
    "import os\n",
    "glove_dir = '/Data Science/DSC/Natural Language Processing.bin/glove.6B'\n",
    "embeddings_index = {}\n",
    "f = open(os.path.join(glove_dir, 'glove.6B.100d.txt'))\n",
    "for line in f:\n",
    "    values = line.split()\n",
    "    word = values[0]\n",
    "    coefs = np.asarray(values[1:], dtype='float32')\n",
    "    embeddings_index[word] = coefs\n",
    "f.close()\n",
    "\n",
    "print('Found %s word vectors.' % len(embeddings_index))"
   ]
  },
  {
   "cell_type": "code",
   "execution_count": 188,
   "metadata": {},
   "outputs": [],
   "source": [
    "embedding_dim = 100\n",
    "max_words = 8652\n",
    "\n",
    "embedding_matrix = np.zeros((max_words, embedding_dim))\n",
    "for word, i in word_index.items():\n",
    "    embedding_vector = embeddings_index.get(word)\n",
    "    if i < max_words:\n",
    "        if embedding_vector is not None:\n",
    "            # Words not found in embedding index will be all-zeros.\n",
    "            embedding_matrix[i] = embedding_vector"
   ]
  },
  {
   "cell_type": "code",
   "execution_count": 189,
   "metadata": {},
   "outputs": [
    {
     "data": {
      "text/plain": [
       "(8652, 100)"
      ]
     },
     "execution_count": 189,
     "metadata": {},
     "output_type": "execute_result"
    }
   ],
   "source": [
    "embedding_matrix.shape"
   ]
  },
  {
   "cell_type": "code",
   "execution_count": 190,
   "metadata": {},
   "outputs": [
    {
     "name": "stdout",
     "output_type": "stream",
     "text": [
      "_________________________________________________________________\n",
      "Layer (type)                 Output Shape              Param #   \n",
      "=================================================================\n",
      "embedding_19 (Embedding)     (None, 33, 100)           865200    \n",
      "_________________________________________________________________\n",
      "flatten_19 (Flatten)         (None, 3300)              0         \n",
      "_________________________________________________________________\n",
      "dense_32 (Dense)             (None, 32)                105632    \n",
      "_________________________________________________________________\n",
      "dense_33 (Dense)             (None, 3)                 99        \n",
      "=================================================================\n",
      "Total params: 970,931\n",
      "Trainable params: 970,931\n",
      "Non-trainable params: 0\n",
      "_________________________________________________________________\n"
     ]
    }
   ],
   "source": [
    "from keras.models import Sequential\n",
    "from keras.layers import Embedding, Flatten, Dense\n",
    "\n",
    "model_GloVe = Sequential()\n",
    "model_GloVe.add(Embedding(max_words, 100, input_length=33))\n",
    "model_GloVe.add(Flatten())\n",
    "model_GloVe.add(Dense(32, activation='relu'))\n",
    "model_GloVe.add(Dense(3, activation='softmax'))\n",
    "model_GloVe.summary()"
   ]
  },
  {
   "cell_type": "code",
   "execution_count": 191,
   "metadata": {},
   "outputs": [],
   "source": [
    "model_GloVe.layers[0].set_weights([embedding_matrix])\n",
    "model_GloVe.layers[0].trainable = False"
   ]
  },
  {
   "cell_type": "code",
   "execution_count": 192,
   "metadata": {},
   "outputs": [
    {
     "name": "stdout",
     "output_type": "stream",
     "text": [
      "Train on 11712 samples, validate on 2928 samples\n",
      "Epoch 1/10\n",
      "11712/11712 [==============================] - 9s 735us/step - loss: 0.7690 - acc: 0.6855 - val_loss: 0.6191 - val_acc: 0.7544\n",
      "Epoch 2/10\n",
      "11712/11712 [==============================] - 7s 580us/step - loss: 0.6178 - acc: 0.7491 - val_loss: 0.5776 - val_acc: 0.7835\n",
      "Epoch 3/10\n",
      "11712/11712 [==============================] - 7s 581us/step - loss: 0.5297 - acc: 0.7853 - val_loss: 0.5747 - val_acc: 0.7879\n",
      "Epoch 4/10\n",
      "11712/11712 [==============================] - 7s 588us/step - loss: 0.4583 - acc: 0.8128 - val_loss: 0.6023 - val_acc: 0.7760\n",
      "Epoch 5/10\n",
      "11712/11712 [==============================] - 7s 591us/step - loss: 0.3887 - acc: 0.8467 - val_loss: 0.6434 - val_acc: 0.7637\n",
      "Epoch 6/10\n",
      "11712/11712 [==============================] - 7s 600us/step - loss: 0.3234 - acc: 0.8758 - val_loss: 0.7023 - val_acc: 0.7814\n",
      "Epoch 7/10\n",
      "11712/11712 [==============================] - 7s 593us/step - loss: 0.2661 - acc: 0.9021 - val_loss: 0.8277 - val_acc: 0.6933\n",
      "Epoch 8/10\n",
      "11712/11712 [==============================] - 7s 619us/step - loss: 0.2173 - acc: 0.9239 - val_loss: 0.8022 - val_acc: 0.7435\n",
      "Epoch 9/10\n",
      "11712/11712 [==============================] - 7s 617us/step - loss: 0.1754 - acc: 0.9411 - val_loss: 0.8773 - val_acc: 0.7500\n",
      "Epoch 10/10\n",
      "11712/11712 [==============================] - 7s 632us/step - loss: 0.1391 - acc: 0.9540 - val_loss: 1.0385 - val_acc: 0.7172\n"
     ]
    }
   ],
   "source": [
    "model_GloVe.compile(optimizer='rmsprop',\n",
    "              loss='categorical_crossentropy',\n",
    "              metrics=['acc'])\n",
    "history = model_GloVe.fit(padded_docs, df_labels,\n",
    "                    epochs=10,\n",
    "                    batch_size=32,\n",
    "                    validation_split=0.2)"
   ]
  },
  {
   "cell_type": "markdown",
   "metadata": {},
   "source": [
    "## RNN"
   ]
  },
  {
   "cell_type": "code",
   "execution_count": 194,
   "metadata": {},
   "outputs": [],
   "source": [
    "from keras.layers import Embedding, SimpleRNN"
   ]
  },
  {
   "cell_type": "code",
   "execution_count": 195,
   "metadata": {},
   "outputs": [
    {
     "name": "stdout",
     "output_type": "stream",
     "text": [
      "Train on 11712 samples, validate on 2928 samples\n",
      "Epoch 1/10\n",
      "11712/11712 [==============================] - 7s 582us/step - loss: 0.7146 - acc: 0.8435 - val_loss: 0.8113 - val_acc: 0.7247\n",
      "Epoch 2/10\n",
      "11712/11712 [==============================] - 3s 242us/step - loss: 0.6197 - acc: 0.8411 - val_loss: 0.7498 - val_acc: 0.7288\n",
      "Epoch 3/10\n",
      "11712/11712 [==============================] - 3s 257us/step - loss: 0.5555 - acc: 0.8267 - val_loss: 0.7056 - val_acc: 0.7329\n",
      "Epoch 4/10\n",
      "11712/11712 [==============================] - 3s 242us/step - loss: 0.5047 - acc: 0.8253 - val_loss: 0.6785 - val_acc: 0.7346\n",
      "Epoch 5/10\n",
      "11712/11712 [==============================] - 3s 268us/step - loss: 0.4654 - acc: 0.8260 - val_loss: 0.6687 - val_acc: 0.7309\n",
      "Epoch 6/10\n",
      "11712/11712 [==============================] - 3s 288us/step - loss: 0.4350 - acc: 0.8260 - val_loss: 0.6629 - val_acc: 0.7333\n",
      "Epoch 7/10\n",
      "11712/11712 [==============================] - 4s 309us/step - loss: 0.4102 - acc: 0.8260 - val_loss: 0.6655 - val_acc: 0.7316\n",
      "Epoch 8/10\n",
      "11712/11712 [==============================] - 3s 280us/step - loss: 0.3898 - acc: 0.8262 - val_loss: 0.6691 - val_acc: 0.7339\n",
      "Epoch 9/10\n",
      "11712/11712 [==============================] - 3s 296us/step - loss: 0.3723 - acc: 0.8266 - val_loss: 0.6807 - val_acc: 0.7305\n",
      "Epoch 10/10\n",
      "11712/11712 [==============================] - 4s 324us/step - loss: 0.3577 - acc: 0.8270 - val_loss: 0.6921 - val_acc: 0.7312\n"
     ]
    }
   ],
   "source": [
    "from keras.layers import Dense\n",
    "model_RNN = Sequential() \n",
    "model_RNN.add(Embedding(max_words, 32)) \n",
    "model_RNN.add(SimpleRNN(32)) \n",
    "model_RNN.add(Dense(3, activation='softmax'))\n",
    "model_RNN.compile(optimizer='rmsprop', loss='categorical_crossentropy', metrics=['acc']) \n",
    "history = model_RNN.fit(padded_docs, df_labels,epochs=10, batch_size=128, validation_split=0.2)"
   ]
  },
  {
   "cell_type": "markdown",
   "metadata": {},
   "source": [
    "## LSTM"
   ]
  },
  {
   "cell_type": "code",
   "execution_count": 196,
   "metadata": {},
   "outputs": [],
   "source": [
    "from keras.layers import LSTM"
   ]
  },
  {
   "cell_type": "code",
   "execution_count": 197,
   "metadata": {},
   "outputs": [
    {
     "name": "stdout",
     "output_type": "stream",
     "text": [
      "Train on 11712 samples, validate on 2928 samples\n",
      "Epoch 1/10\n",
      "11712/11712 [==============================] - 31s 3ms/step - loss: 0.8816 - acc: 0.6128 - val_loss: 0.6414 - val_acc: 0.7404\n",
      "Epoch 2/10\n",
      "11712/11712 [==============================] - 19s 2ms/step - loss: 0.6765 - acc: 0.6891 - val_loss: 0.5511 - val_acc: 0.7497\n",
      "Epoch 3/10\n",
      "11712/11712 [==============================] - 21s 2ms/step - loss: 0.5946 - acc: 0.7375 - val_loss: 0.5839 - val_acc: 0.7507\n",
      "Epoch 4/10\n",
      "11712/11712 [==============================] - 21s 2ms/step - loss: 0.5526 - acc: 0.7586 - val_loss: 0.5047 - val_acc: 0.7941\n",
      "Epoch 5/10\n",
      "11712/11712 [==============================] - 21s 2ms/step - loss: 0.5134 - acc: 0.7865 - val_loss: 0.5247 - val_acc: 0.7910\n",
      "Epoch 6/10\n",
      "11712/11712 [==============================] - 20s 2ms/step - loss: 0.4868 - acc: 0.8050 - val_loss: 0.5032 - val_acc: 0.7923\n",
      "Epoch 7/10\n",
      "11712/11712 [==============================] - 21s 2ms/step - loss: 0.4633 - acc: 0.8170 - val_loss: 0.5996 - val_acc: 0.7486\n",
      "Epoch 8/10\n",
      "11712/11712 [==============================] - 22s 2ms/step - loss: 0.4463 - acc: 0.8253 - val_loss: 0.6485 - val_acc: 0.7169\n",
      "Epoch 9/10\n",
      "11712/11712 [==============================] - 21s 2ms/step - loss: 0.4268 - acc: 0.8377 - val_loss: 0.5654 - val_acc: 0.7920\n",
      "Epoch 10/10\n",
      "11712/11712 [==============================] - 21s 2ms/step - loss: 0.4028 - acc: 0.8507 - val_loss: 0.5595 - val_acc: 0.8023\n"
     ]
    }
   ],
   "source": [
    "model_LSTM = Sequential() \n",
    "model_LSTM.add(Embedding(max_words, 32)) \n",
    "model_LSTM.add(LSTM(32))\n",
    "model_LSTM.add(Dense(3, activation='softmax'))\n",
    "model_LSTM.compile(optimizer='rmsprop', loss='categorical_crossentropy',metrics=['acc'])\n",
    "history = model_LSTM.fit(padded_docs, df_labels,epochs=10, batch_size=128, validation_split=0.2)"
   ]
  },
  {
   "cell_type": "code",
   "execution_count": null,
   "metadata": {},
   "outputs": [],
   "source": []
  }
 ],
 "metadata": {
  "kernelspec": {
   "display_name": "Python 3",
   "language": "python",
   "name": "python3"
  },
  "language_info": {
   "codemirror_mode": {
    "name": "ipython",
    "version": 3
   },
   "file_extension": ".py",
   "mimetype": "text/x-python",
   "name": "python",
   "nbconvert_exporter": "python",
   "pygments_lexer": "ipython3",
   "version": "3.5.5"
  }
 },
 "nbformat": 4,
 "nbformat_minor": 4
}
